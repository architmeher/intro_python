{
  "cells": [
    {
      "cell_type": "markdown",
      "metadata": {
        "id": "view-in-github",
        "colab_type": "text"
      },
      "source": [
        "<a href=\"https://colab.research.google.com/github/architmeher/intro_python/blob/main/CSE30S24Hwk1Classes.ipynb\" target=\"_parent\"><img src=\"https://colab.research.google.com/assets/colab-badge.svg\" alt=\"Open In Colab\"/></a>"
      ]
    },
    {
      "cell_type": "markdown",
      "metadata": {
        "id": "meqEZu-Vt1uV",
        "notebookgrader": {
          "id": "f528ef23e373f01dbf4565e363c690321689d2d3",
          "readonly": true
        }
      },
      "source": [
        "# Classes\n",
        "### Copyright Luca de Alfaro, 2021-23, with Oswald Campesato.  License: CC-BY-NC."
      ]
    },
    {
      "cell_type": "markdown",
      "metadata": {
        "id": "WxkueeiGt9b5",
        "notebookgrader": {
          "id": "81e91cf9aea963337ea88db322ad7322f7576f47",
          "readonly": true
        }
      },
      "source": [
        "A Python class provides a way of encapsulating togeteher data, and the methods and primitive operations on the data.\n",
        "\n",
        "We can define a class `Rectangle`, which encapsulates the dimensions $w$ and $h$ of a rectangle, and methods to compute area and perimeter, as follows."
      ]
    },
    {
      "cell_type": "code",
      "execution_count": null,
      "metadata": {
        "id": "gZH1DHBytzh2",
        "notebookgrader": {
          "id": "860cf5e1ca9bb7a4f3e11aaf45df10ff662f382d",
          "is_solution": false,
          "is_tests": false,
          "readonly": true
        }
      },
      "outputs": [],
      "source": [
        "class Rectangle(object):\n",
        "\n",
        "    def __init__(self, w, h):\n",
        "        self.w = w\n",
        "        self.h = h\n",
        "\n",
        "    def area(self):\n",
        "        return self.w * self.h\n",
        "\n",
        "    @property\n",
        "    def perimeter(self):\n",
        "        return 2 * (self.w + self.h)"
      ]
    },
    {
      "cell_type": "markdown",
      "metadata": {
        "id": "Dsq8A954w_w7",
        "notebookgrader": {
          "id": "968671c2114fb898a5dc16f5a0e3ead27c1ab12d",
          "readonly": true
        }
      },
      "source": [
        "## Creating a new object\n",
        "\n",
        "We create a rectangle as follows:"
      ]
    },
    {
      "cell_type": "code",
      "execution_count": null,
      "metadata": {
        "id": "cTER7lYBw-7Q",
        "notebookgrader": {
          "id": "ddc31ee5912bd3aed7963185586f2caf9921704e",
          "is_solution": false,
          "is_tests": false,
          "readonly": true
        }
      },
      "outputs": [],
      "source": [
        "r = Rectangle(3, 4)"
      ]
    },
    {
      "cell_type": "markdown",
      "metadata": {
        "id": "9O49N5V_2eGb",
        "notebookgrader": {
          "id": "530741cb0bb60737cbeb49a9b1dc6ef961ca0dfd",
          "readonly": true
        }
      },
      "source": [
        "### Object initialization\n",
        "\n",
        "The statement above is executed as follows.  First, Python realizes that you want to create a new object of class `Rectangle`.  The class `Rectangle` is a subclass of the class `object` (line 1), which is the most general class in Python, that is, the mother of all classes, or the protoclass.  So Python as first thing generates an object, which is a container for data and methods.\n",
        "Python then passes to the `__init__` method of `Rectangle` (defined in line 3) three arguments:\n",
        "\n",
        "* The newly-created object, that is yet to be filled with data.  This is passed as argument `self`.  The name `self` is purely a Python convention, btw, you could rename it `thingie` or `myself_the_best_object_in_the_universe` and everything would work.  But please follow the convention.\n",
        "* The width 3 and height 4 parameters of `Rectangle(3, 4)`.\n",
        "\n",
        "The `__init__` method assigns two attributes of the object:\n",
        "\n",
        "* `self.w` is assigned the `w` parameter,\n",
        "* `self.h` is assigned the `h` parameter.\n",
        "\n",
        "To assign a value to an attribute `myattribute` of an object, you simply say `o.myattribute = value`, where `o` is the object; in this case, the object is in `self`, as mentioned."
      ]
    },
    {
      "cell_type": "markdown",
      "metadata": {
        "id": "YZ2orckatqDR",
        "notebookgrader": {
          "id": "514030787c9f2e22a2880413604daead35a00170",
          "readonly": true
        }
      },
      "source": [
        "### Accessing attributes of an object\n",
        "\n",
        "Unlike in Java, for instance, object attributes can be accessed simply by writing `object.attribute`, for instance:"
      ]
    },
    {
      "cell_type": "code",
      "execution_count": null,
      "metadata": {
        "id": "GSaYQgUVtz2c",
        "notebookgrader": {
          "id": "31010a4b2fe59a9ceb6c0fad658d7de8052c1622",
          "is_solution": false,
          "is_tests": false,
          "readonly": true
        }
      },
      "outputs": [],
      "source": [
        "print(\"Rectangle height:\", r.h)\n",
        "print(\"Rectangle width:\", r.w)"
      ]
    },
    {
      "cell_type": "markdown",
      "metadata": {
        "id": "9dsD1i61t__Q",
        "notebookgrader": {
          "id": "4dd6a627c3abc10c560adcf5b176528c67ef4d0e",
          "readonly": true
        }
      },
      "source": [
        "Python has no notion of \"private\" object attributes, which cannot be accessed from outside the class declaration.  If you want to say that people are not supposed to look at an attribute, you can call it with a name that begins with underscore, as in:"
      ]
    },
    {
      "cell_type": "code",
      "execution_count": null,
      "metadata": {
        "id": "e30Z48ceuUvL",
        "notebookgrader": {
          "id": "d4bc5754e157aba0dcd6fea36474462d2703fa32",
          "is_solution": false,
          "is_tests": false,
          "readonly": true
        }
      },
      "outputs": [],
      "source": [
        "class VersionedRectangle(object):\n",
        "\n",
        "    def __init__(self, w, h):\n",
        "        self.w = w\n",
        "        self.h = h\n",
        "        self._version = \"1.0\"\n",
        "\n",
        "    def area(self):\n",
        "        return self.w * self.h\n",
        "\n",
        "    @property\n",
        "    def perimeter(self):\n",
        "        return 2 * (self.w + self.h)"
      ]
    },
    {
      "cell_type": "markdown",
      "metadata": {
        "id": "sDgvhBJZuZ0Z",
        "notebookgrader": {
          "id": "3883b43f668e724ef6f7495c0355a456f835027b",
          "readonly": true
        }
      },
      "source": [
        "This provides a weak indication -- a wish, really -- for people not to tamper with the `_version` attribute.  The attribute is still accessible, however:"
      ]
    },
    {
      "cell_type": "code",
      "execution_count": null,
      "metadata": {
        "id": "PYrpi11Sul9R",
        "notebookgrader": {
          "id": "c7daa16159b1b3c64ebeb571a6742c37abc39a55",
          "is_solution": false,
          "is_tests": false,
          "readonly": true
        }
      },
      "outputs": [],
      "source": [
        "vr = VersionedRectangle(5, 6)\n",
        "vr._version"
      ]
    },
    {
      "cell_type": "markdown",
      "metadata": {
        "id": "acWoYKSt2f5d",
        "notebookgrader": {
          "id": "64757924bcebe11f55d08b6917873a0d7ed560db",
          "readonly": true
        }
      },
      "source": [
        "### Adding attributes to existing objects\n",
        "\n",
        "In Python, you can take an existing object and add a new attribute to it, like this:"
      ]
    },
    {
      "cell_type": "code",
      "execution_count": null,
      "metadata": {
        "id": "l9bswdXH2x_y",
        "notebookgrader": {
          "id": "fbe7639f14a8f1480bc72091fb831ee933ae7374",
          "is_solution": false,
          "is_tests": false,
          "readonly": true
        }
      },
      "outputs": [],
      "source": [
        "r.border = True"
      ]
    },
    {
      "cell_type": "code",
      "execution_count": null,
      "metadata": {
        "id": "FCIavJoF2zUl",
        "notebookgrader": {
          "id": "282818b5fd01b460ea75c82cd69c36267328c401",
          "is_solution": false,
          "is_tests": false,
          "readonly": true
        }
      },
      "outputs": [],
      "source": [
        "r.border"
      ]
    },
    {
      "cell_type": "markdown",
      "metadata": {
        "id": "h-V_MeQG21JP",
        "notebookgrader": {
          "id": "160f8589ad798df713f16c913a326b80e798c337",
          "readonly": true
        }
      },
      "source": [
        "Of course, it is only that particular rectangle `r` that now has an attribute `border` defined:"
      ]
    },
    {
      "cell_type": "code",
      "execution_count": null,
      "metadata": {
        "id": "q8GEl6-l29CN",
        "notebookgrader": {
          "id": "0acb4bcd3e5b0b10689fbfb58b2b78082383f9c4",
          "is_solution": false,
          "is_tests": false,
          "readonly": true
        }
      },
      "outputs": [],
      "source": [
        "import traceback\n",
        "\n",
        "another_rectangle = Rectangle(3, 4)\n",
        "try:\n",
        "    another_rectangle.border\n",
        "except:\n",
        "    traceback.print_exc()"
      ]
    },
    {
      "cell_type": "markdown",
      "metadata": {
        "id": "rmr1oavf4Q_z",
        "notebookgrader": {
          "id": "9471dd6aa0bece2a889bc2c7945895bc940cb5d0",
          "readonly": true
        }
      },
      "source": [
        "## Calling object methods\n",
        "\n",
        "If you define a method with:\n",
        "\n",
        "```\n",
        "    def method(self, <parameters>):\n",
        "```\n",
        "\n",
        "you can call it on an object `obj` via:\n",
        "\n",
        "    obj.method(<parameters>)\n",
        "\n",
        "Thus, the object to which the method belongs (`obj` in this case) becomes the first argument, which is typically called `self`, in the method definition `def method(self, <parameters>)`.\n",
        "\n",
        "Since the method `area` is defined via:\n",
        "\n",
        "```\n",
        "    def area(self):\n",
        "```\n",
        "\n",
        "with no parameters except `self`, we can call it with an empty parameter list `()`, like so:\n"
      ]
    },
    {
      "cell_type": "code",
      "execution_count": null,
      "metadata": {
        "id": "m_Gl0pTF2dOI",
        "notebookgrader": {
          "id": "b007dd5d1ad6cac9f220e8aaf8095aa57a19f7ef",
          "is_solution": false,
          "is_tests": false,
          "readonly": true
        }
      },
      "outputs": [],
      "source": [
        "r.area()"
      ]
    },
    {
      "cell_type": "markdown",
      "metadata": {
        "id": "d3MjGV1OrWyD",
        "notebookgrader": {
          "id": "dba9161a9426635836eb3a141e77cc63debf1b6c",
          "readonly": true
        }
      },
      "source": [
        "If we want to avoid having to include the empty parameter list `()`, we can define the method to be a _property_ via the `@property` decorator:\n",
        "\n",
        "        @property\n",
        "        def perimeter(self):\n",
        "            ...\n",
        "\n",
        "just as we did for perimeter:"
      ]
    },
    {
      "cell_type": "code",
      "execution_count": null,
      "metadata": {
        "id": "DGmbybEWsOzx",
        "notebookgrader": {
          "id": "40e5ff17954c5a09a8cc9abb4a5ff12fa459a303",
          "is_solution": false,
          "is_tests": false,
          "readonly": true
        }
      },
      "outputs": [],
      "source": [
        "r.perimeter"
      ]
    },
    {
      "cell_type": "markdown",
      "metadata": {
        "id": "4_Zo6DJdjwyq",
        "notebookgrader": {
          "id": "c53664742a3f527bcb884ac3dcdc9149e98c08ff",
          "readonly": true
        }
      },
      "source": [
        "### Methods with arguments\n",
        "\n",
        "Let's now consider a class `FabricRectangle` with an additional method, that gives us the cost of the rectangle if it had to be manufactured using fabric:"
      ]
    },
    {
      "cell_type": "code",
      "execution_count": null,
      "metadata": {
        "id": "nKVbOpO6iNse",
        "notebookgrader": {
          "id": "87774c18c1d9624da282274c5563e0416b8d0b7c",
          "is_solution": false,
          "is_tests": false,
          "readonly": true
        }
      },
      "outputs": [],
      "source": [
        "class FabricRectangle(object):\n",
        "\n",
        "    def __init__(self, w, h):\n",
        "        self.w = w\n",
        "        self.h = h\n",
        "\n",
        "    def area(self):\n",
        "        return self.w * self.h\n",
        "\n",
        "    def cost(self, unit_fabric_cost):\n",
        "        \"\"\"Returns the total cost of the fabric to build a rectangle.\"\"\"\n",
        "        return unit_fabric_cost * self.area()\n",
        "\n",
        "    @property\n",
        "    def perimeter(self):\n",
        "        return 2 * (self.w + self.h)"
      ]
    },
    {
      "cell_type": "markdown",
      "metadata": {
        "id": "pSrd2dBEk3Ds",
        "notebookgrader": {
          "id": "8ca3ced94a1c6df08a9d64ce7e5d9b1f95be58ac",
          "readonly": true
        }
      },
      "source": [
        "We can create a rectangle of this class via:"
      ]
    },
    {
      "cell_type": "code",
      "execution_count": null,
      "metadata": {
        "id": "fEpmpJ5pk8Vq",
        "notebookgrader": {
          "id": "843ab68eb09e192256dffec9da481cff3a88eb64",
          "is_solution": false,
          "is_tests": false,
          "readonly": true
        }
      },
      "outputs": [],
      "source": [
        "fabric_rectangle = FabricRectangle(4, 5)"
      ]
    },
    {
      "cell_type": "markdown",
      "metadata": {
        "id": "FY1ud7iZlCM8",
        "notebookgrader": {
          "id": "e1b66d22406f8587474b2dd1654482708f18ddc1",
          "readonly": true
        }
      },
      "source": [
        "and compute its cost with a certain fabric via:"
      ]
    },
    {
      "cell_type": "code",
      "execution_count": null,
      "metadata": {
        "id": "4r8DgxaolFQO",
        "notebookgrader": {
          "id": "801e63d1187c1cd4206963b87462af91c4445bf7",
          "is_solution": false,
          "is_tests": false,
          "readonly": true
        }
      },
      "outputs": [],
      "source": [
        "fabric_rectangle.cost(12)"
      ]
    },
    {
      "cell_type": "markdown",
      "metadata": {
        "id": "PbWuinpbiUIq",
        "notebookgrader": {
          "id": "9891d42714db99ba7c5e207d820bd05163cecfc4",
          "readonly": true
        }
      },
      "source": [
        "The method `cost` was defined via:\n",
        "\n",
        "```\n",
        "    def cost(self, unit_fabric_cost):\n",
        "```\n",
        "and:\n",
        "\n",
        "* `fabric_rectangle` is assigned to `self`,\n",
        "* `12` is assigned to `unit_fabric_cost.\n"
      ]
    },
    {
      "cell_type": "markdown",
      "metadata": {
        "id": "Qs935nxgoIHR",
        "notebookgrader": {
          "id": "160738029ba0f5d428859fa246ade0add278e9dc",
          "readonly": true
        }
      },
      "source": [
        "### Calling methods via the class name\n",
        "\n",
        "Note that you could achieve the same goal by calling:"
      ]
    },
    {
      "cell_type": "code",
      "execution_count": null,
      "metadata": {
        "id": "-2CWLgmHoMPV",
        "notebookgrader": {
          "id": "e255838dca235a309fab7ae161ccf773c2329e2e",
          "is_solution": false,
          "is_tests": false,
          "readonly": true
        }
      },
      "outputs": [],
      "source": [
        "FabricRectangle.cost(fabric_rectangle, 12)"
      ]
    },
    {
      "cell_type": "markdown",
      "metadata": {
        "id": "bOepolFsoRdQ",
        "notebookgrader": {
          "id": "f68863dc00499d5d719d1a4556dbe821f8131a42",
          "readonly": true
        }
      },
      "source": [
        "In this way, we specify explicitly that we call the `cost` method of the `FabricRectangle` class, with arguments `(fabric_rectangle, 12)` for `(self, cost)`.  However, the above is not a commonly used way of calling methods in Python.  Normally, you call methods on objects using the `object.method(...)` syntax."
      ]
    },
    {
      "cell_type": "markdown",
      "metadata": {
        "id": "3mkaBFqtkOmg",
        "notebookgrader": {
          "id": "af994b9fd4e43cde3bb7dd3418396a14b66e9e27",
          "readonly": true
        }
      },
      "source": [
        "### Properties\n",
        "\n",
        "The method perimeter has a `@property` decorator around it. This makes it possible to call it without the `()`, so that you can write:"
      ]
    },
    {
      "cell_type": "code",
      "execution_count": null,
      "metadata": {
        "id": "2ZWoKnG8kVsY",
        "notebookgrader": {
          "id": "d5933a8480995280ad8941a06e9542daaa0540bd",
          "is_solution": false,
          "is_tests": false,
          "readonly": true
        }
      },
      "outputs": [],
      "source": [
        "r.perimeter"
      ]
    },
    {
      "cell_type": "markdown",
      "metadata": {
        "id": "mxzSInFSkdaf",
        "notebookgrader": {
          "id": "a219eb6490f77ca3d7da51842090d32d4a409e60",
          "readonly": true
        }
      },
      "source": [
        "rather than `r.perimeter()`. That's all there is to it.  Properties are very handy, as they allow you to create computed properties of methods that look like attributes."
      ]
    },
    {
      "cell_type": "markdown",
      "metadata": {
        "id": "prGdLNNg_lnw",
        "notebookgrader": {
          "id": "fb5db8deff7336e9deb2c84b4d33efba655951ca",
          "readonly": true
        }
      },
      "source": [
        "### Static methods\n",
        "\n",
        "Sometimes, a method does not depend from the object itself -- that is, its implementation does not mention `self`.  In that case, you can make it into a _static_ method.  For instance, we can define a class `UpAndDown` of string methods like this:"
      ]
    },
    {
      "cell_type": "code",
      "execution_count": null,
      "metadata": {
        "id": "uPUbmMei_1ot",
        "notebookgrader": {
          "id": "74c80f8c23baba29c32b00f11b4ba9c0be50c513",
          "is_solution": false,
          "is_tests": false,
          "readonly": true
        }
      },
      "outputs": [],
      "source": [
        "class UpAndDown(object):\n",
        "\n",
        "    def up(self, s):\n",
        "        return s.upper()\n",
        "\n",
        "    def down(self, s):\n",
        "        return s.lower()"
      ]
    },
    {
      "cell_type": "markdown",
      "metadata": {
        "id": "7x_mAJyfAY0j",
        "notebookgrader": {
          "id": "55d29cc1b067c1d2c8b6027b7e8d488d3032c10b",
          "readonly": true
        }
      },
      "source": [
        "The methods `up` and `down` are not applied to the object; they are just conveniently grouped in a class.  You can then make them static:"
      ]
    },
    {
      "cell_type": "code",
      "execution_count": null,
      "metadata": {
        "id": "g5flg_-RAkTJ",
        "notebookgrader": {
          "id": "0e890b9912b0ed123f66d183d7f9cb1e4ab4e0f1",
          "is_solution": false,
          "is_tests": false,
          "readonly": true
        }
      },
      "outputs": [],
      "source": [
        "class UpAndDown(object):\n",
        "\n",
        "    @staticmethod\n",
        "    def up(s):\n",
        "        return s.upper()\n",
        "\n",
        "    @staticmethod\n",
        "    def down(self, s):\n",
        "        return s.lower()"
      ]
    },
    {
      "cell_type": "code",
      "execution_count": null,
      "metadata": {
        "id": "LuGfIm7fAqor",
        "notebookgrader": {
          "id": "789ce59e464935597fa2dcb4c952d61e1a14a78d",
          "is_solution": false,
          "is_tests": false,
          "readonly": true
        }
      },
      "outputs": [],
      "source": [
        "s = \"cat\"\n",
        "UpAndDown.up(s)"
      ]
    },
    {
      "cell_type": "markdown",
      "metadata": {
        "id": "WBdQVht5AxQG",
        "notebookgrader": {
          "id": "a1bf405425560bdea65e1ec54ab3fa6e80c42d35",
          "readonly": true
        }
      },
      "source": [
        "As you see from the above exammple, static methods are called using the class name, followed by a dot, followed by the static method name."
      ]
    },
    {
      "cell_type": "markdown",
      "metadata": {
        "id": "2qQiOmIi0GEj",
        "notebookgrader": {
          "id": "4d24908ea083be996ad4983211d3359301e14985",
          "readonly": true
        }
      },
      "source": [
        "### dir() : directory listing an object\n",
        "\n",
        "If you are wondering what are all the attributes of a class, `dir()` gives you a list:"
      ]
    },
    {
      "cell_type": "code",
      "execution_count": null,
      "metadata": {
        "id": "2iurLxKh0OSV",
        "notebookgrader": {
          "id": "0a1ff61dd542dd1c1fafb93ee041b2923943ff4c",
          "is_solution": false,
          "is_tests": false,
          "readonly": true
        }
      },
      "outputs": [],
      "source": [
        "dir(r)"
      ]
    },
    {
      "cell_type": "markdown",
      "metadata": {
        "id": "LMynCwFE0UyU",
        "notebookgrader": {
          "id": "e11b4be7801c798bea4189786c61c12b74535d70",
          "readonly": true
        }
      },
      "source": [
        "The list contains both attributes and methods: to Python, these are the same, they are all attributes: it's just that `r.h` has a number as value, and `r.area` has a function as value.\n",
        "\n",
        "The list contains both the attributes specific to our `Rectangle` class (`area`, `h`, `perimeter`, `w`, `__init__`), and the attributes that every Python `object` has."
      ]
    },
    {
      "cell_type": "markdown",
      "metadata": {
        "id": "_E6SRs2m0s2W",
        "notebookgrader": {
          "id": "808e69951ac7950932fbd689e4c6310cb72ba101",
          "readonly": true
        }
      },
      "source": [
        "### Accessing attributes by name: `getattr` and `setattr`\n",
        "\n",
        "The typical way of accessing an object attributes is via the dot notation, as in:"
      ]
    },
    {
      "cell_type": "code",
      "execution_count": null,
      "metadata": {
        "id": "Kl3PPcG31Ame",
        "notebookgrader": {
          "id": "f0366a7ccb431f63f6a1bf3112d8271b06ff4e80",
          "is_solution": false,
          "is_tests": false,
          "readonly": true
        }
      },
      "outputs": [],
      "source": [
        "r.w"
      ]
    },
    {
      "cell_type": "code",
      "execution_count": null,
      "metadata": {
        "id": "PxwWQUC71B3z",
        "notebookgrader": {
          "id": "dfac55e3fd7a125486495c95e499a39cfb36f8ed",
          "is_solution": false,
          "is_tests": false,
          "readonly": true
        }
      },
      "outputs": [],
      "source": [
        "r.perimeter"
      ]
    },
    {
      "cell_type": "markdown",
      "metadata": {
        "id": "rJrMK07G1EAZ",
        "notebookgrader": {
          "id": "dd12f6c32b7646a1d6215b8031304f59a4ab053d",
          "readonly": true
        }
      },
      "source": [
        "If the _name_ of an attribute is given to you as a string, you can use `getattr` to get the corresponding attribute:"
      ]
    },
    {
      "cell_type": "code",
      "execution_count": null,
      "metadata": {
        "id": "31vflKbt1OTv",
        "notebookgrader": {
          "id": "8fc4db464f900194ebdac7610c32601dfa6dc702",
          "is_solution": false,
          "is_tests": false,
          "readonly": true
        }
      },
      "outputs": [],
      "source": [
        "for s in ['w', 'perimeter']:\n",
        "    # Let's get the attribute called s.\n",
        "    a = getattr(r, s)\n",
        "    # and call it.\n",
        "    print(s, \":\", a)"
      ]
    },
    {
      "cell_type": "markdown",
      "metadata": {
        "id": "xBN6btj91lDK",
        "notebookgrader": {
          "id": "154ec33b92e74e2c41a2cc6d710246d460c8edbd",
          "readonly": true
        }
      },
      "source": [
        "You can also get methods in this way:"
      ]
    },
    {
      "cell_type": "code",
      "execution_count": null,
      "metadata": {
        "id": "xMS6TvJj1nl5",
        "notebookgrader": {
          "id": "461acf479d959cbfb4241dc34180bac671e0b95b",
          "is_solution": false,
          "is_tests": false,
          "readonly": true
        }
      },
      "outputs": [],
      "source": [
        "area_method = getattr(r, \"area\")\n",
        "area_method()"
      ]
    },
    {
      "cell_type": "markdown",
      "metadata": {
        "id": "pQwuJDzU12fW",
        "notebookgrader": {
          "id": "0b063be8103b25120af7db2e59e236dea3025fa4",
          "readonly": true
        }
      },
      "source": [
        "You can get the methods also from the class:"
      ]
    },
    {
      "cell_type": "code",
      "execution_count": null,
      "metadata": {
        "id": "lYZmt7jJ15xQ",
        "notebookgrader": {
          "id": "b7094f48866194348495fe1beeae873af0757ff2",
          "is_solution": false,
          "is_tests": false,
          "readonly": true
        }
      },
      "outputs": [],
      "source": [
        "area_method_from_class = getattr(Rectangle, \"area\")\n",
        "area_method_from_class(r)"
      ]
    },
    {
      "cell_type": "markdown",
      "metadata": {
        "id": "oteYC5uY2A3-",
        "notebookgrader": {
          "id": "f51145d8f05dacc53f4196726c29d35fc90847a9",
          "readonly": true
        }
      },
      "source": [
        "In that case, you have to specify the value for `self`, that is, the object to which the method is applied, as the first parameter, as we did above."
      ]
    },
    {
      "cell_type": "markdown",
      "metadata": {
        "id": "ceNn16Qz2MeX",
        "notebookgrader": {
          "id": "ab357f4979caa8179a15de417524c441e914b0b2",
          "readonly": true
        }
      },
      "source": [
        "You can use `setattr` to set attributes of object, for example, you can do with dot notation:"
      ]
    },
    {
      "cell_type": "code",
      "execution_count": null,
      "metadata": {
        "id": "MPVZVRh72Rvk",
        "notebookgrader": {
          "id": "4559fec92fc8014446a2cd7898b50ddc3f4f9c8d",
          "is_solution": false,
          "is_tests": false,
          "readonly": true
        }
      },
      "outputs": [],
      "source": [
        "r.color = \"blue\""
      ]
    },
    {
      "cell_type": "markdown",
      "metadata": {
        "id": "sck_HuRA2VFR",
        "notebookgrader": {
          "id": "d8374abd5fad7b121db0b81ce554500139a05286",
          "readonly": true
        }
      },
      "source": [
        "or equivalently,"
      ]
    },
    {
      "cell_type": "code",
      "execution_count": null,
      "metadata": {
        "id": "JUfGZna-2XU8",
        "notebookgrader": {
          "id": "6f4396e54cf0de4f594f4c95b3d554e86cf18b41",
          "is_solution": false,
          "is_tests": false,
          "readonly": true
        }
      },
      "outputs": [],
      "source": [
        "setattr(r, \"color\", \"green\")\n",
        "r.color"
      ]
    },
    {
      "cell_type": "markdown",
      "metadata": {
        "id": "1KG9TscorLNG",
        "notebookgrader": {
          "id": "2dc52635e8326aad692f8048d727cdcccae4ac5c",
          "readonly": true
        }
      },
      "source": [
        "## Subclasses\n",
        "\n",
        "You can define a class to be a subclass of another.  In that case, the subclass inherits all the attributes and methods of the superclass, and you can add new methods to it.\n",
        "\n",
        "For instance, it is quite wasteful to repeat in the `FabricRectangle` class all of the code of `Rectangle`, just to add the `cost` method.  It is much more concise to define `FabricRectangle` as a subclass of `Rectangle`, like this:"
      ]
    },
    {
      "cell_type": "code",
      "execution_count": null,
      "metadata": {
        "id": "kfnS6JoXsBKO",
        "notebookgrader": {
          "id": "f90151dfa1b200163719329e6fd20084c622a481",
          "is_solution": false,
          "is_tests": false,
          "readonly": true
        }
      },
      "outputs": [],
      "source": [
        "class FabricRectangle(Rectangle):\n",
        "\n",
        "    def __init__(self, w, h, unit_cost=None):\n",
        "        super().__init__(w, h)\n",
        "        self.unit_cost = unit_cost\n",
        "\n",
        "    def cost(self, unit_fabric_cost=None):\n",
        "        \"\"\"Returns the total cost of the fabric to build a rectangle.\"\"\"\n",
        "        # At least one cost should be specified.\n",
        "        c = unit_fabric_cost if unit_fabric_cost is not None else self.cost\n",
        "        assert c is not None, \"No cost specified\"\n",
        "        return c * self.area()"
      ]
    },
    {
      "cell_type": "code",
      "execution_count": null,
      "metadata": {
        "id": "vcOEAqYtsPWz",
        "notebookgrader": {
          "id": "ddf2e351ffe284ba884837575f3f5cfceedca981",
          "is_solution": false,
          "is_tests": false,
          "readonly": true
        }
      },
      "outputs": [],
      "source": [
        "fr = FabricRectangle(4, 5)\n",
        "print(\"Cost for fabric with unit cost 12:\", fr.cost(12))\n",
        "print(\"Perimeter:\", fr.perimeter)"
      ]
    },
    {
      "cell_type": "markdown",
      "metadata": {
        "id": "KK4ineXmsf3W",
        "notebookgrader": {
          "id": "f9ad374e59dfb4508599283e5ae543830b195275",
          "readonly": true
        }
      },
      "source": [
        "In the above definition, `class FabricRectangle(Rectangle)` indicates that the class `FabricRectangle` is a subclass of `Rectangle`, just as `Rectangle` in turn was a subclass of the class `object` of Python: `object` is the _\"mother of all classes\"_ in Python."
      ]
    },
    {
      "cell_type": "markdown",
      "metadata": {
        "id": "f_z3Xoass5Pe",
        "notebookgrader": {
          "id": "1e35d5056aa4c4a2228466acebe713da1619381b",
          "readonly": true
        }
      },
      "source": [
        "When we create an object of class `FabricRectangle` via `fr = FabricRectangle(4, 5)`, the following happens:\n",
        "\n",
        "* First, a generic object `obj` of class `FabricRectangle` is created; this object is empty (its attributes are not defined yet).  \n",
        "* Then, we call the `__init__` method of the superclass, which is `Rectangle`, passing to it arguments `w` and `h`.  This init method will set `self.w` and `self.h` to their proper values.\n",
        "* Finally, we also set `self.unit_cost` to the unit cost, which in this case is None.\n",
        "\n",
        "The initializazion could have written in at least a couple of equivalent ways:\n",
        "\n",
        "```\n",
        "    def __init__(self, w, h, unit_cost=None):\n",
        "        Rectangle.__init__(self, w, h)\n",
        "        self.unit_cost = unit_cost\n",
        "```\n",
        "\n",
        "But this is rather ugly; it's better to use `super()` to get the superclass.  Another way is:\n",
        "\n",
        "```\n",
        "    def __init__(self, w, h, unit_cost=None):\n",
        "        self.w = w\n",
        "        self.h = h\n",
        "        self.unit_cost = unit_cost\n",
        "```\n",
        "\n",
        "but this is also bad form, since if we change the way the initializer for `Rectangle` works, we would need to change the code here, which is not so nice."
      ]
    },
    {
      "cell_type": "markdown",
      "metadata": {
        "id": "QnHBa4yGx0Ec",
        "notebookgrader": {
          "id": "201f2505963e691af18466bd837abca84d65b3ec",
          "readonly": true
        }
      },
      "source": [
        "### Checking the type of an object"
      ]
    },
    {
      "cell_type": "markdown",
      "metadata": {
        "id": "iVHgIIV6x26p",
        "notebookgrader": {
          "id": "826a58194e3cdf4b0ea1cca3e86c3ad3142464d3",
          "readonly": true
        }
      },
      "source": [
        "You can check the type of an object as follows. This is true, as `fr` is a `FabricRectangle`:"
      ]
    },
    {
      "cell_type": "code",
      "execution_count": null,
      "metadata": {
        "id": "Ou61EfKiscnX",
        "notebookgrader": {
          "id": "26a14b11f8ea0c0f84d0342ee260e6c8f95db841",
          "is_solution": false,
          "is_tests": false,
          "readonly": true
        }
      },
      "outputs": [],
      "source": [
        "isinstance(fr, FabricRectangle)"
      ]
    },
    {
      "cell_type": "markdown",
      "metadata": {
        "id": "Kmvyp2gDyJcM",
        "notebookgrader": {
          "id": "254e6acc061c384d2948bdda84bf9657251b6d65",
          "readonly": true
        }
      },
      "source": [
        "Due to inheritance, `fr` is also a `Rectangle`:"
      ]
    },
    {
      "cell_type": "code",
      "execution_count": null,
      "metadata": {
        "id": "ssn1dDNhyEau",
        "notebookgrader": {
          "id": "7189f146197d76ab6131e65729665c6ee1963265",
          "is_solution": false,
          "is_tests": false,
          "readonly": true
        }
      },
      "outputs": [],
      "source": [
        "isinstance(fr, Rectangle)"
      ]
    },
    {
      "cell_type": "markdown",
      "metadata": {
        "id": "KbUI0hmAyREb",
        "notebookgrader": {
          "id": "63ecf2a9509f8cae14c832d3d75d817b808d9400",
          "readonly": true
        }
      },
      "source": [
        "You can get the class of an object via `obj.__class__`, and the name by accessing `__name__` on the class, as follows:"
      ]
    },
    {
      "cell_type": "code",
      "execution_count": null,
      "metadata": {
        "id": "VY-ZJR3MyPfy",
        "notebookgrader": {
          "id": "a0d8c48bac33679180b6763b145c101d142e7b4d",
          "is_solution": false,
          "is_tests": false,
          "readonly": true
        }
      },
      "outputs": [],
      "source": [
        "fr.__class__.__name__"
      ]
    },
    {
      "cell_type": "markdown",
      "metadata": {
        "id": "-VMW5TAq3PqJ",
        "notebookgrader": {
          "id": "f92a76bf189242ceeb9a47d25d8ac77ef484909d",
          "readonly": true
        }
      },
      "source": [
        "## Creating Datatypes\n",
        "\n",
        "By implementing class methods defined in the [Python data model](https://docs.python.org/3/reference/datamodel.html), you can create objects that behave like numbers, dictionaries, and more.\n"
      ]
    },
    {
      "cell_type": "markdown",
      "metadata": {
        "id": "wBT0aBUK3wvl",
        "notebookgrader": {
          "id": "47fa2418f0fd1624759880f6c309ea5e2223954a",
          "readonly": true
        }
      },
      "source": [
        "### Implementing arithmetic operators\n",
        "\n",
        "We can define the effect of arithmetic operators such as `+`, `-`, `*`, `/` on objects of the class.  For example, to ensure that\n",
        "\n",
        "    obj1 + obj2\n",
        "\n",
        "can be evaluated, all we need to do is define an [`__add__` method](https://docs.python.org/3/reference/datamodel.html#object.__add__) :\n",
        "\n",
        "```\n",
        "    def add(self, other):\n",
        "```\n",
        "\n",
        "where `self` is the object on the left of `+` (`obj1` in the code above) and `other` is the object on the right (`obj2` in the code above).\n",
        "\n",
        "For example, here is how you would implement complex numbers with their four operations:"
      ]
    },
    {
      "cell_type": "code",
      "execution_count": null,
      "metadata": {
        "id": "1-OrDNNyyem5",
        "notebookgrader": {
          "id": "548712e525a047ff2432311afec3356e951fc391",
          "is_solution": false,
          "is_tests": false,
          "readonly": true
        }
      },
      "outputs": [],
      "source": [
        "import math\n",
        "\n",
        "class Complex(object):\n",
        "\n",
        "    def __init__(self, r, i):\n",
        "        self.r = r # Real part\n",
        "        self.i = i # Imaginary part\n",
        "\n",
        "    def __add__(self, other):\n",
        "        return Complex(self.r + other.r, self.i + other.i)\n",
        "\n",
        "    def __sub__(self, other):\n",
        "        return Complex(self.r - other.r, self.i - other.i)\n",
        "\n",
        "    def __mul__(self, other):\n",
        "        return Complex((self.r * other.r - self.i * other.i),\n",
        "                       (self.r * other.i + self.i * other.r))\n",
        "\n",
        "    @property\n",
        "    def modulus_square(self):\n",
        "        return self.r * self.r + self.i * self.i\n",
        "\n",
        "    @property\n",
        "    def modulus(self):\n",
        "        return math.sqrt(self.modulus_square)\n",
        "\n",
        "    def inverse(self):\n",
        "        m = self.modulus_square # to cache it\n",
        "        return Complex(self.r / m, - self.i / m)\n",
        "\n",
        "    def __truediv__(self, other):\n",
        "        return self * other.inverse()\n",
        "\n",
        "    def __repr__(self):\n",
        "        \"\"\"This defines how to print a complex number.\"\"\"\n",
        "        if self.i < 0:\n",
        "            return \"{}-{}i\".format(self.r, -self.i)\n",
        "        return \"{}+{}i\".format(self.r, self.i)\n",
        "\n",
        "    def __eq__(self, other):\n",
        "        \"\"\"We even define equality\"\"\"\n",
        "        return self.r == other.r and self.i == other.i"
      ]
    },
    {
      "cell_type": "code",
      "execution_count": 5,
      "metadata": {
        "colab": {
          "base_uri": "https://localhost:8080/",
          "height": 173
        },
        "id": "jNaZnYgA6IY0",
        "notebookgrader": {
          "id": "d19881affa10c9dde8e72c1066062c0999840fd8",
          "is_solution": false,
          "is_tests": false,
          "readonly": true
        },
        "outputId": "55773295-f09c-46c7-dfa1-85a2faea190d"
      },
      "outputs": [
        {
          "output_type": "error",
          "ename": "NameError",
          "evalue": "name 'Complex' is not defined",
          "traceback": [
            "\u001b[0;31m---------------------------------------------------------------------------\u001b[0m",
            "\u001b[0;31mNameError\u001b[0m                                 Traceback (most recent call last)",
            "\u001b[0;32m<ipython-input-5-1c0ab53e380a>\u001b[0m in \u001b[0;36m<cell line: 1>\u001b[0;34m()\u001b[0m\n\u001b[0;32m----> 1\u001b[0;31m \u001b[0mc1\u001b[0m \u001b[0;34m=\u001b[0m \u001b[0mComplex\u001b[0m\u001b[0;34m(\u001b[0m\u001b[0;36m2\u001b[0m\u001b[0;34m,\u001b[0m \u001b[0;36m3\u001b[0m\u001b[0;34m)\u001b[0m\u001b[0;34m\u001b[0m\u001b[0;34m\u001b[0m\u001b[0m\n\u001b[0m\u001b[1;32m      2\u001b[0m \u001b[0mc2\u001b[0m \u001b[0;34m=\u001b[0m \u001b[0mComplex\u001b[0m\u001b[0;34m(\u001b[0m\u001b[0;36m3\u001b[0m\u001b[0;34m,\u001b[0m \u001b[0;36m4\u001b[0m\u001b[0;34m)\u001b[0m\u001b[0;34m\u001b[0m\u001b[0;34m\u001b[0m\u001b[0m\n\u001b[1;32m      3\u001b[0m \u001b[0mc1\u001b[0m \u001b[0;34m-\u001b[0m \u001b[0mc2\u001b[0m\u001b[0;34m\u001b[0m\u001b[0;34m\u001b[0m\u001b[0m\n",
            "\u001b[0;31mNameError\u001b[0m: name 'Complex' is not defined"
          ]
        }
      ],
      "source": [
        "c1 = Complex(2, 3)\n",
        "c2 = Complex(3, 4)\n",
        "c1 - c2"
      ]
    },
    {
      "cell_type": "code",
      "execution_count": null,
      "metadata": {
        "id": "Ed37Z2Ci6jHh",
        "notebookgrader": {
          "id": "0221dba8bbd463e32a2cbe0708792c57598c9b86",
          "is_solution": false,
          "is_tests": false,
          "readonly": true
        }
      },
      "outputs": [],
      "source": [
        "(c1 - c2) + c2 == c1"
      ]
    },
    {
      "cell_type": "code",
      "execution_count": null,
      "metadata": {
        "id": "-Ec9POX37Qco",
        "notebookgrader": {
          "id": "5f77a868d21aaa754483e62e1ebbcb9c5e3169ec",
          "is_solution": false,
          "is_tests": false,
          "readonly": true
        }
      },
      "outputs": [],
      "source": [
        "(c1 / c2) * c2 == c1"
      ]
    },
    {
      "cell_type": "markdown",
      "metadata": {
        "id": "DY4M8jXe-f-g",
        "notebookgrader": {
          "id": "14fc129a4bdf4183ed8d0ef479693a9288133001",
          "readonly": true
        }
      },
      "source": [
        "### Equality and sorting\n",
        "\n",
        "To implement equality, as we saw above, all we need is to implement the `__eq__` method, which has signature `__eq__(self, other)`.\n",
        "\n",
        "To implement sorting, we need to implement `<`, defined by the `__lt__` method.  Rather than redefining the `Complex` class from scratch, we can add it to the class after the fact, like so.  This is not a common notation in Python, but it is very convenient in notebooks:"
      ]
    },
    {
      "cell_type": "code",
      "execution_count": 3,
      "metadata": {
        "id": "wgja3v_J_ESe",
        "notebookgrader": {
          "id": "af293fba6459f9bac77ebc304a8b4dafea7e0cd6",
          "is_solution": false,
          "is_tests": false,
          "readonly": true
        },
        "colab": {
          "base_uri": "https://localhost:8080/",
          "height": 173
        },
        "outputId": "de9a98e9-0aed-4e34-f56a-b3650a0f967b"
      },
      "outputs": [
        {
          "output_type": "error",
          "ename": "NameError",
          "evalue": "name 'Complex' is not defined",
          "traceback": [
            "\u001b[0;31m---------------------------------------------------------------------------\u001b[0m",
            "\u001b[0;31mNameError\u001b[0m                                 Traceback (most recent call last)",
            "\u001b[0;32m<ipython-input-3-a425b8b02d63>\u001b[0m in \u001b[0;36m<cell line: 6>\u001b[0;34m()\u001b[0m\n\u001b[1;32m      4\u001b[0m     \u001b[0;32mreturn\u001b[0m \u001b[0;34m(\u001b[0m\u001b[0mself\u001b[0m\u001b[0;34m.\u001b[0m\u001b[0mr\u001b[0m\u001b[0;34m,\u001b[0m \u001b[0mself\u001b[0m\u001b[0;34m.\u001b[0m\u001b[0mi\u001b[0m\u001b[0;34m)\u001b[0m \u001b[0;34m<\u001b[0m \u001b[0;34m(\u001b[0m\u001b[0mother\u001b[0m\u001b[0;34m.\u001b[0m\u001b[0mr\u001b[0m\u001b[0;34m,\u001b[0m \u001b[0mother\u001b[0m\u001b[0;34m.\u001b[0m\u001b[0mi\u001b[0m\u001b[0;34m)\u001b[0m\u001b[0;34m\u001b[0m\u001b[0;34m\u001b[0m\u001b[0m\n\u001b[1;32m      5\u001b[0m \u001b[0;34m\u001b[0m\u001b[0m\n\u001b[0;32m----> 6\u001b[0;31m \u001b[0mComplex\u001b[0m\u001b[0;34m.\u001b[0m\u001b[0m__lt__\u001b[0m \u001b[0;34m=\u001b[0m \u001b[0mcomplex_lt\u001b[0m\u001b[0;34m\u001b[0m\u001b[0;34m\u001b[0m\u001b[0m\n\u001b[0m",
            "\u001b[0;31mNameError\u001b[0m: name 'Complex' is not defined"
          ]
        }
      ],
      "source": [
        "def complex_lt(self, other):\n",
        "    \"\"\"We order complex numbers according to the lexicographic ordering\n",
        "    of their (real, imaginary) parts.\"\"\"\n",
        "    return (self.r, self.i) < (other.r, other.i)\n",
        "\n",
        "Complex.__lt__ = complex_lt"
      ]
    },
    {
      "cell_type": "code",
      "execution_count": null,
      "metadata": {
        "id": "WNKNG90f_Uc7",
        "notebookgrader": {
          "id": "a1cf2e446a8302650c48e84c79d1610c32153eda",
          "is_solution": false,
          "is_tests": false,
          "readonly": true
        }
      },
      "outputs": [],
      "source": [
        "c1 < c2"
      ]
    },
    {
      "cell_type": "code",
      "execution_count": null,
      "metadata": {
        "id": "y8jTC-Hb_W_6",
        "notebookgrader": {
          "id": "4d31714d4b252059a4f672bb98028a839594de0a",
          "is_solution": false,
          "is_tests": false,
          "readonly": true
        }
      },
      "outputs": [],
      "source": [
        "c_list = [c2, c1]\n",
        "c_list.sort()\n",
        "c_list"
      ]
    },
    {
      "cell_type": "markdown",
      "metadata": {
        "id": "e1ZWyk9x8GaF",
        "notebookgrader": {
          "id": "1caa76e7ea9bb44412a45c51c11ff3afc713c8f8",
          "readonly": true
        }
      },
      "source": [
        "### Implementing dictionary-like objects\n",
        "\n",
        "The `[]` method used to assign a value to a dictionary element, as in `d[3] = 'cat'`, is implemented via the `__setitem__` method, and the `[]` method used to get values from dictionaries, as in `d[3]`, is implemented via the `__getitem__` method.  So if you want to create objects that behave like dictionaries, just implement their [`__setitem__` and `__getitem__` methods](https://docs.python.org/3/reference/datamodel.html#emulating-container-types).  You can also implement `__len__` to return the length of the object."
      ]
    },
    {
      "cell_type": "markdown",
      "metadata": {
        "id": "FTz-Us5MRuwt",
        "notebookgrader": {
          "id": "11611ef2eb9e44717148ea2ec801c9f671c69ab7",
          "readonly": true
        }
      },
      "source": [
        "## Excercise\n",
        "\n",
        "Please implement the methods `__delitem__` and `__contains__` below."
      ]
    },
    {
      "cell_type": "code",
      "execution_count": 2,
      "metadata": {
        "id": "k9-op0oMZi1l",
        "notebookgrader": {
          "id": "f448ceaebfdf4f719244a7cda48288b26b588547",
          "is_solution": false,
          "is_tests": false,
          "readonly": true
        }
      },
      "outputs": [],
      "source": [
        "# Let's import the time class.\n",
        "import time"
      ]
    },
    {
      "cell_type": "code",
      "execution_count": 7,
      "metadata": {
        "id": "pJsV1t-H7fBu",
        "notebookgrader": {
          "id": "0730d1c0d8245c4ea15a5586e068979fb6bd52f7",
          "is_solution": true,
          "is_tests": false,
          "readonly": false
        }
      },
      "outputs": [],
      "source": [
        "class TimestampedDict(object):\n",
        "    \"\"\"This is a dictionary that remembers at what time the values were set.\"\"\"\n",
        "\n",
        "    def __init__(self):\n",
        "        # The dictionary for the values...\n",
        "        self.d = {}\n",
        "        # ... and that for the timestamps.\n",
        "        self.ts = {}\n",
        "\n",
        "    def __setitem__(self, k, v):\n",
        "        \"\"\"Sets key k to value v\"\"\"\n",
        "        self.d[k] = v\n",
        "        self.ts[k] = time.time()\n",
        "\n",
        "    def __getitem__(self, k):\n",
        "        return self.d[k]\n",
        "\n",
        "    def age(self, k):\n",
        "        \"\"\"Returns the age of the k to v association.\"\"\"\n",
        "        return time.time() - self.ts[k]\n",
        "\n",
        "    def __len__(self):\n",
        "        \"\"\"Length of the dictionary.\"\"\"\n",
        "        return len(self.d)\n",
        "\n",
        "    def __delitem__(self, k):\n",
        "        \"\"\"Deletes the key k from the dictionary.\"\"\"\n",
        "        del self.d[k]\n",
        "        del self.ts[k]\n",
        "\n",
        "    def __contains__(self, k):\n",
        "        \"\"\"Checks if key k is in the dictionary.\"\"\"\n",
        "        return k in self.d"
      ]
    },
    {
      "cell_type": "markdown",
      "metadata": {
        "id": "BabKC1btSmET",
        "notebookgrader": {
          "id": "bd0b30fb1801084849228e2d1fc221a84fbc2a8b",
          "readonly": true
        }
      },
      "source": [
        "Let us test your solution, first of all."
      ]
    },
    {
      "cell_type": "code",
      "execution_count": 10,
      "metadata": {
        "colab": {
          "base_uri": "https://localhost:8080/"
        },
        "id": "Knmr85GISo6M",
        "notebookgrader": {
          "id": "8b23f3576ab3eb21e3a597df919b854136b939c7",
          "is_solution": false,
          "is_tests": true,
          "readonly": true,
          "test_points": 10
        },
        "outputId": "cdcebb6c-ab09-4230-ccfd-701381c7d71b"
      },
      "outputs": [
        {
          "output_type": "stream",
          "name": "stdout",
          "text": [
            "All tests pass!\n"
          ]
        }
      ],
      "source": [
        "# Tests 10 points.  Tests for __delitem__\n",
        "\n",
        "tsd = TimestampedDict()\n",
        "tsd[\"cat\"] = 4\n",
        "tsd[\"dog\"] = 3\n",
        "del tsd[\"dog\"]\n",
        "assert \"cat\" in tsd.d, \"Cat is in\"\n",
        "assert \"dog\" not in tsd.d, \"Dog is not in\"\n",
        "\n",
        "\n",
        "print(\"All tests pass!\")"
      ]
    },
    {
      "cell_type": "code",
      "execution_count": 8,
      "metadata": {
        "colab": {
          "base_uri": "https://localhost:8080/"
        },
        "id": "N-SmXLHSULCv",
        "notebookgrader": {
          "id": "39a486a9559807f1068ea24c49743e3fcc6f8073",
          "is_solution": false,
          "is_tests": true,
          "readonly": true,
          "test_points": 10
        },
        "outputId": "c2f4b5cc-45a5-4339-d86e-cd7eaf9e6113"
      },
      "outputs": [
        {
          "output_type": "stream",
          "name": "stdout",
          "text": [
            "All tests pass!\n"
          ]
        }
      ],
      "source": [
        "# Tests 10 points.  Tests for __contains__\n",
        "\n",
        "tsd = TimestampedDict()\n",
        "tsd[\"cat\"] = 4\n",
        "tsd[\"dog\"] = 3\n",
        "assert \"cat\" in tsd, \"Cat is in\"\n",
        "assert \"bird\" not in tsd, \"Bird is not in\"\n",
        "\n",
        "\n",
        "print(\"All tests pass!\")"
      ]
    },
    {
      "cell_type": "code",
      "execution_count": 9,
      "metadata": {
        "colab": {
          "base_uri": "https://localhost:8080/"
        },
        "id": "nEx-Rx8dUZ1X",
        "notebookgrader": {
          "id": "67f5a3ffdf59f2800d9c4337f4d40ffcada980e0",
          "is_solution": false,
          "is_tests": true,
          "readonly": true,
          "test_points": 10
        },
        "outputId": "6c6e4b58-54f9-494a-f515-1781822508c9"
      },
      "outputs": [
        {
          "output_type": "stream",
          "name": "stdout",
          "text": [
            "All tests pass!\n"
          ]
        }
      ],
      "source": [
        "# Tests 10 points.  All together now!\n",
        "\n",
        "tsd = TimestampedDict()\n",
        "tsd[\"cat\"] = 4\n",
        "tsd[\"dog\"] = 3\n",
        "assert \"cat\" in tsd, \"Cat is in\"\n",
        "assert \"dog\" in tsd, \"Dog also\"\n",
        "assert \"bird\" not in tsd, \"Bird is not in\"\n",
        "del tsd[\"dog\"]\n",
        "assert \"dog\" not in tsd, \"Dog no more in\"\n",
        "\n",
        "\n",
        "print(\"All tests pass!\")"
      ]
    },
    {
      "cell_type": "code",
      "execution_count": 11,
      "metadata": {
        "colab": {
          "base_uri": "https://localhost:8080/"
        },
        "id": "ajZatq4b96uo",
        "notebookgrader": {
          "id": "f336a40827ec985f072f0ca81123bd2ce68c9448",
          "is_solution": false,
          "is_tests": false,
          "readonly": true
        },
        "outputId": "e4a8d886-d628-4fb8-e0dd-fd6aeafb2755"
      },
      "outputs": [
        {
          "output_type": "stream",
          "name": "stdout",
          "text": [
            "cat: value: 4 age: 1.5023655891418457\n",
            "bird: value: 5 age: 1.0022931098937988\n"
          ]
        }
      ],
      "source": [
        "tsd = TimestampedDict()\n",
        "tsd[\"cat\"] = 4\n",
        "time.sleep(0.5)\n",
        "tsd[\"bird\"] = 5\n",
        "time.sleep(1)\n",
        "print(\"cat: value:\", tsd[\"cat\"], \"age:\", tsd.age(\"cat\"))\n",
        "print(\"bird: value:\", tsd[\"bird\"], \"age:\", tsd.age(\"bird\"))\n"
      ]
    },
    {
      "cell_type": "code",
      "execution_count": null,
      "metadata": {
        "id": "q-iZs4JsRhjH",
        "notebookgrader": {
          "id": "eb42d83609cdea46383794bc3c842a368c56b6db",
          "is_solution": false,
          "is_tests": false,
          "readonly": true
        }
      },
      "outputs": [],
      "source": []
    }
  ],
  "metadata": {
    "colab": {
      "provenance": [],
      "include_colab_link": true
    },
    "kernelspec": {
      "display_name": "Python 3",
      "name": "python3"
    },
    "language_info": {
      "name": "python"
    },
    "notebookgrader": {
      "total_points": 30
    }
  },
  "nbformat": 4,
  "nbformat_minor": 0
}